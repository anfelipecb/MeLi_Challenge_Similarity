{
 "cells": [
  {
   "cell_type": "markdown",
   "metadata": {},
   "source": [
    "<img src = \"../Assets/imgs/ML-Codo-g.jpg\" alt = \"Encabezado MLDS\" width = \"25%\" style=\"float: left; margin-right:20px\" >  </img>\n",
    "\n",
    "## **MeLi Challenge - Similitud de items**\n",
    "### **Notebook 02: Extraccion_Embeddings**\n",
    "**Por: Andrés Felipe Camacho Baquero - [Personal website](https://anfelipecb.github.io/)**\n",
    "\n",
    "\n",
    "Este código tiene el objetivo de llamar los datos de la `API`, hacer algunos análisis, y preparar los datos finales que serán pasados a los siguientes `notebooks`.  Dado que ya en el notebook `01` entendí cómo manejar la API y me ayudó a filtrar la categoría escogida.\n",
    "\n",
    "**Outline:**\n",
    "1. Verificación del entorno virtual e importación de las librerías necesarias \n",
    "2. Importamos los datos de la API con la funcion creada en custom_funcs\n",
    "3. Analisis de los datos importados\n",
    "\n",
    "> **Nota:** Se debe configurar y activar el entorno virtual (README.md)\n",
    "\n",
    "---x"
   ]
  }
 ],
 "metadata": {
  "language_info": {
   "name": "python"
  }
 },
 "nbformat": 4,
 "nbformat_minor": 2
}
