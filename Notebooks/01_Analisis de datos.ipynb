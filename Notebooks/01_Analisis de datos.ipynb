{
 "cells": [
  {
   "cell_type": "markdown",
   "metadata": {},
   "source": [
    "<img src = \"../Assets/imgs/ML-Codo-g.jpg\" alt = \"Encabezado MLDS\" width = \"25%\" style=\"float: left; margin-right:20px\" >  </img>\n",
    "\n",
    "## **MeLi Challenge - Similitud de items**\n",
    "### **Notebook 01: Análisis de datos extraidos de la API**\n",
    "**Por: Andrés Felipe Camacho Baquero - [Personal website](https://anfelipecb.github.io/)**\n",
    "\n",
    "\n",
    "Este código tiene el objetivo de llamar los datos de la `API`, hacer algunos análisis, y preparar los datos finales que serán pasados a los siguientes `notebooks`.  Dado que ya en el notebook `01` entendí cómo manejar la API y me ayudó a filtrar la categoría escogida.\n",
    "\n",
    "**Outline:**\n",
    "1. Verificación del entorno virtual e importación de las librerías necesarias \n",
    "2. Importamos los datos de la API con la funcion creada en custom_funcs\n",
    "\n",
    "> **Nota:** Se debe configurar y activar el entorno virtual (README.md)\n",
    "\n",
    "---"
   ]
  },
  {
   "cell_type": "markdown",
   "metadata": {},
   "source": [
    "#### 1. Verificamos entorno virtual "
   ]
  },
  {
   "cell_type": "code",
   "execution_count": 7,
   "metadata": {},
   "outputs": [
    {
     "name": "stdout",
     "output_type": "stream",
     "text": [
      "/Users/anfelipecb/GitHub/MeLi/MeLi_Challenge_Similarity/melienv/bin/python\n"
     ]
    }
   ],
   "source": [
    "# Verifiquemos que el entorno en que corre este jupyter es el mismo virutal llamado (melienv)\n",
    "import os, sys\n",
    "import pandas as pd\n",
    "\n",
    "os.getcwd() \n",
    "print(sys.executable) #debe datnos el entorno virtual \n",
    "sys.path.append('../similarity') #Agrego el paquete de python que creé para las funciones personalizadas, la url de la API, etc."
   ]
  },
  {
   "cell_type": "markdown",
   "metadata": {},
   "source": [
    "#### 2. Importamos los datos: \n",
    "Las funciones que hacen que esto funcione están en `similarity/custom_funcs.py`"
   ]
  },
  {
   "cell_type": "code",
   "execution_count": 8,
   "metadata": {},
   "outputs": [
    {
     "name": "stdout",
     "output_type": "stream",
     "text": [
      "El limite de items es 472420\n",
      "va en el ofsett: 50\n",
      "va en el ofsett: 99\n",
      "va en el ofsett: 149\n",
      "va en el ofsett: 199\n",
      "va en el ofsett: 249\n",
      "va en el ofsett: 299\n",
      "va en el ofsett: 349\n",
      "va en el ofsett: 399\n",
      "va en el ofsett: 449\n",
      "va en el ofsett: 499\n",
      "va en el ofsett: 549\n",
      "va en el ofsett: 599\n",
      "va en el ofsett: 649\n",
      "va en el ofsett: 699\n",
      "va en el ofsett: 749\n",
      "va en el ofsett: 799\n",
      "va en el ofsett: 849\n",
      "va en el ofsett: 899\n",
      "va en el ofsett: 949\n",
      "va en el ofsett: 999\n",
      "va en el ofsett: 1049\n",
      "Error obteniendo los datos: 403\n"
     ]
    },
    {
     "ename": "NameError",
     "evalue": "name 'json_normalize' is not defined",
     "output_type": "error",
     "traceback": [
      "\u001b[0;31m---------------------------------------------------------------------------\u001b[0m",
      "\u001b[0;31mNameError\u001b[0m                                 Traceback (most recent call last)",
      "Cell \u001b[0;32mIn[8], line 6\u001b[0m\n\u001b[1;32m      4\u001b[0m offset\u001b[38;5;241m=\u001b[39m\u001b[38;5;241m0\u001b[39m \n\u001b[1;32m      5\u001b[0m \u001b[38;5;66;03m#data_frame con los resultados\u001b[39;00m\n\u001b[0;32m----> 6\u001b[0m df_items\u001b[38;5;241m=\u001b[39m\u001b[43mget_data_API_items\u001b[49m\u001b[43m(\u001b[49m\u001b[43mcat_id\u001b[49m\u001b[43m,\u001b[49m\u001b[43moffset\u001b[49m\u001b[38;5;241;43m=\u001b[39;49m\u001b[43moffset\u001b[49m\u001b[43m)\u001b[49m\n",
      "File \u001b[0;32m~/GitHub/MeLi/MeLi_Challenge_Similarity/Notebooks/../similarity/similarity/custom_funcs.py:59\u001b[0m, in \u001b[0;36mget_data_API_items\u001b[0;34m(category_id, limit, offset)\u001b[0m\n\u001b[1;32m     57\u001b[0m     \u001b[38;5;28mprint\u001b[39m(\u001b[38;5;124mf\u001b[39m\u001b[38;5;124m'\u001b[39m\u001b[38;5;124mva en el ofsett: \u001b[39m\u001b[38;5;132;01m{\u001b[39;00moffset\u001b[38;5;132;01m}\u001b[39;00m\u001b[38;5;124m'\u001b[39m)\n\u001b[1;32m     58\u001b[0m \u001b[38;5;66;03m#Normalizamos \u001b[39;00m\n\u001b[0;32m---> 59\u001b[0m df \u001b[38;5;241m=\u001b[39m \u001b[43mjson_normalize\u001b[49m(products_list)\n\u001b[1;32m     61\u001b[0m \u001b[38;5;66;03m# Los atributos que me parecen importantes \u001b[39;00m\n\u001b[1;32m     62\u001b[0m     \u001b[38;5;66;03m# Aquí: df.apply aplicara a cada fila la funcion lambda para transformar la estructura de datos anidada a la base que estamos armando\u001b[39;00m\n\u001b[1;32m     63\u001b[0m \u001b[38;5;28;01mfor\u001b[39;00m attr_name \u001b[38;5;129;01min\u001b[39;00m [\u001b[38;5;124m'\u001b[39m\u001b[38;5;124mBRAND\u001b[39m\u001b[38;5;124m'\u001b[39m, \u001b[38;5;124m'\u001b[39m\u001b[38;5;124mLINE\u001b[39m\u001b[38;5;124m'\u001b[39m, \u001b[38;5;124m'\u001b[39m\u001b[38;5;124mMODEL\u001b[39m\u001b[38;5;124m'\u001b[39m, \u001b[38;5;124m'\u001b[39m\u001b[38;5;124mPACKAGE_LENGTH\u001b[39m\u001b[38;5;124m'\u001b[39m, \u001b[38;5;124m'\u001b[39m\u001b[38;5;124mPACKAGE_WEIGHT\u001b[39m\u001b[38;5;124m'\u001b[39m]:\n",
      "\u001b[0;31mNameError\u001b[0m: name 'json_normalize' is not defined"
     ]
    }
   ],
   "source": [
    "#Traemos la función para optener el DataFrame\n",
    "from similarity.custom_funcs import get_data_API_items\n",
    "cat_id='MLA1000' \n",
    "offset=0 \n",
    "#data_frame con los resultados\n",
    "df_items=get_data_API_items(cat_id,offset=offset)"
   ]
  }
 ],
 "metadata": {
  "kernelspec": {
   "display_name": "melienv",
   "language": "python",
   "name": "python3"
  },
  "language_info": {
   "codemirror_mode": {
    "name": "ipython",
    "version": 3
   },
   "file_extension": ".py",
   "mimetype": "text/x-python",
   "name": "python",
   "nbconvert_exporter": "python",
   "pygments_lexer": "ipython3",
   "version": "3.11.3"
  }
 },
 "nbformat": 4,
 "nbformat_minor": 2
}
