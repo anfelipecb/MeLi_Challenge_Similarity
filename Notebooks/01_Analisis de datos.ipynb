{
 "cells": [
  {
   "cell_type": "markdown",
   "metadata": {},
   "source": [
    "<img src = \"../Assets/imgs/ML-Codo-g.jpg\" alt = \"Encabezado MLDS\" width = \"25%\" style=\"float: left; margin-right:20px\" >  </img>\n",
    "\n",
    "## **MeLi Challenge - Similitud de items**\n",
    "### **Notebook 01: Análisis de datos extraidos de la API**\n",
    "**Por: Andrés Felipe Camacho Baquero - [Personal website](https://anfelipecb.github.io/)**\n",
    "\n",
    "\n",
    "Este código tiene el objetivo de llamar los datos de la `API`, hacer algunos análisis, y preparar los datos finales que serán pasados a los siguientes `notebooks`.  Dado que ya en el notebook `01` entendí cómo manejar la API y me ayudó a filtrar la categoría escogida.\n",
    "\n",
    "**Outline:**\n",
    "1. Verificación del entorno virtual e importación de las librerías necesarias \n",
    "2. \n",
    "\n",
    "> **Nota:** Se debe configurar y activar el entorno virtual (README.md)\n",
    "\n",
    "---"
   ]
  },
  {
   "cell_type": "code",
   "execution_count": 4,
   "metadata": {},
   "outputs": [
    {
     "name": "stdout",
     "output_type": "stream",
     "text": [
      "/Users/anfelipecb/GitHub/MeLi/MeLi_Challenge_Similarity/melienv/bin/python\n"
     ]
    }
   ],
   "source": [
    "# Verifiquemos que el entorno en que corre este jupyter es el mismo virutal llamado (melienv)\n",
    "import os, sys\n",
    "os.getcwd() \n",
    "print(sys.executable) #debe datnos el entorno virtual \n",
    "sys.path.append('../similarity') #Agrego el paquete de python que creé para las funciones personalizadas, la url de la API, etc."
   ]
  },
  {
   "cell_type": "markdown",
   "metadata": {},
   "source": [
    "### 2. Importamos los datos: \n",
    "Las funciones que hacen que esto funcione están en `similarity/custom_functions.py`"
   ]
  },
  {
   "cell_type": "code",
   "execution_count": null,
   "metadata": {},
   "outputs": [],
   "source": []
  },
  {
   "cell_type": "code",
   "execution_count": 2,
   "metadata": {},
   "outputs": [],
   "source": [
    "# Vamos a crear funciones para limpiar el texto \n",
    "import re \n",
    "\n",
    "def limpiar_texto(texto):\n",
    "    \"\"\" Función que nos servirá para limpiar y nornalizar el texto.\n",
    "    \"\"\"\n",
    "    text=text.lower() # Lo pasamos a minusculas\n",
    "    # Eliminamos caracteres especiales y números\n",
    "    text = re.sub(r'\\W+|\\d+', ' ', text)\n",
    "    # Eliminamos espacios adicionales\n",
    "    text = re.sub(r'\\s+', ' ', text).strip()\n",
    "    return text\n",
    "\n",
    "#Aplicamos la funcion a los titulos "
   ]
  }
 ],
 "metadata": {
  "kernelspec": {
   "display_name": "melienv",
   "language": "python",
   "name": "python3"
  },
  "language_info": {
   "codemirror_mode": {
    "name": "ipython",
    "version": 3
   },
   "file_extension": ".py",
   "mimetype": "text/x-python",
   "name": "python",
   "nbconvert_exporter": "python",
   "pygments_lexer": "ipython3",
   "version": "3.11.3"
  }
 },
 "nbformat": 4,
 "nbformat_minor": 2
}
