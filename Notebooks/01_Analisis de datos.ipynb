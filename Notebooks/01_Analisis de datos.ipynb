{
 "cells": [
  {
   "cell_type": "markdown",
   "metadata": {},
   "source": [
    "<img src = \"../Assets/imgs/ML-Codo-g.jpg\" alt = \"Encabezado MLDS\" width = \"25%\" style=\"float: left; margin-right:20px\" >  </img>\n",
    "\n",
    "## **MeLi Challenge - Similitud de items**\n",
    "### **Notebook 01: Análisis de datos extraidos de la API**\n",
    "**Por: Andrés Felipe Camacho Baquero - [Personal website](https://anfelipecb.github.io/)**\n",
    "\n",
    "\n",
    "Este código tiene el objetivo de llamar los datos de la `API`, hacer algunos análisis, y preparar los datos finales que serán pasados a los siguientes `notebooks`.  Dado que ya en el notebook `01` entendí cómo manejar la API y me ayudó a filtrar la categoría escogida.\n",
    "\n",
    "**Outline:**\n",
    "1. Verificación del entorno virtual e importación de las librerías necesarias \n",
    "2. Importamos los datos de la API con la funcion creada en custom_funcs\n",
    "3. Analisis de los datos importados\n",
    "\n",
    "> **Nota:** Se debe configurar y activar el entorno virtual (README.md)\n",
    "\n",
    "---"
   ]
  },
  {
   "cell_type": "markdown",
   "metadata": {},
   "source": [
    "#### 1. Verificamos entorno virtual "
   ]
  },
  {
   "cell_type": "code",
   "execution_count": 1,
   "metadata": {},
   "outputs": [
    {
     "name": "stdout",
     "output_type": "stream",
     "text": [
      "/Users/anfelipecb/GitHub/MeLi/MeLi_Challenge_Similarity/melienv/bin/python\n"
     ]
    }
   ],
   "source": [
    "# Verifiquemos que el entorno en que corre este jupyter es el mismo virutal llamado (melienv)\n",
    "import os, sys\n",
    "import pandas as pd\n",
    "\n",
    "os.getcwd() \n",
    "print(sys.executable) #debe datnos el entorno virtual \n",
    "sys.path.append('../similarity') #Agrego el paquete de python que creé para las funciones personalizadas, la url de la API, etc."
   ]
  },
  {
   "cell_type": "markdown",
   "metadata": {},
   "source": [
    "#### 2. Importamos los datos: \n",
    "Las funciones que hacen que esto funcione están en `similarity/custom_funcs.py`"
   ]
  },
  {
   "cell_type": "code",
   "execution_count": 2,
   "metadata": {},
   "outputs": [
    {
     "name": "stdout",
     "output_type": "stream",
     "text": [
      "El limite de items es 472295\n",
      "va en el ofsett: 50 con tamaño:50\n",
      "va en el ofsett: 99 con tamaño:49\n",
      "va en el ofsett: 148 con tamaño:49\n",
      "va en el ofsett: 198 con tamaño:50\n",
      "va en el ofsett: 248 con tamaño:50\n",
      "va en el ofsett: 298 con tamaño:50\n",
      "va en el ofsett: 348 con tamaño:50\n",
      "va en el ofsett: 398 con tamaño:50\n",
      "va en el ofsett: 448 con tamaño:50\n",
      "va en el ofsett: 498 con tamaño:50\n",
      "va en el ofsett: 548 con tamaño:50\n",
      "va en el ofsett: 598 con tamaño:50\n",
      "va en el ofsett: 648 con tamaño:50\n",
      "va en el ofsett: 698 con tamaño:50\n",
      "va en el ofsett: 748 con tamaño:50\n",
      "va en el ofsett: 798 con tamaño:50\n",
      "va en el ofsett: 848 con tamaño:50\n",
      "va en el ofsett: 898 con tamaño:50\n",
      "va en el ofsett: 948 con tamaño:50\n",
      "va en el ofsett: 998 con tamaño:50\n",
      "va en el ofsett: 1048 con tamaño:50\n",
      "Error obteniendo los datos: 403\n",
      "El limite de items es 147093\n",
      "va en el ofsett: 50 con tamaño:50\n",
      "va en el ofsett: 98 con tamaño:48\n",
      "va en el ofsett: 148 con tamaño:50\n",
      "va en el ofsett: 198 con tamaño:50\n",
      "va en el ofsett: 248 con tamaño:50\n",
      "va en el ofsett: 298 con tamaño:50\n",
      "va en el ofsett: 348 con tamaño:50\n",
      "va en el ofsett: 398 con tamaño:50\n",
      "va en el ofsett: 448 con tamaño:50\n",
      "va en el ofsett: 498 con tamaño:50\n",
      "va en el ofsett: 548 con tamaño:50\n",
      "va en el ofsett: 598 con tamaño:50\n",
      "va en el ofsett: 648 con tamaño:50\n",
      "va en el ofsett: 698 con tamaño:50\n",
      "va en el ofsett: 748 con tamaño:50\n",
      "va en el ofsett: 798 con tamaño:50\n",
      "va en el ofsett: 847 con tamaño:49\n",
      "va en el ofsett: 897 con tamaño:50\n",
      "va en el ofsett: 947 con tamaño:50\n",
      "va en el ofsett: 997 con tamaño:50\n",
      "va en el ofsett: 1047 con tamaño:50\n",
      "Error obteniendo los datos: 403\n"
     ]
    }
   ],
   "source": [
    "#Traemos la función para optener el DataFrame\n",
    "from similarity.custom_funcs import get_data_API_items\n",
    "cat_id='MLA1000' \n",
    "offset=0 \n",
    "#data_frame con los resultados\n",
    "df_items=get_data_API_items(cat_id,offset=offset) # Para en 1049 por la API\n",
    "#Tengo otra categoría más específica de datos tipo auriculares bluetooth \n",
    "cat_id_especifico='MLA409810'\n",
    "dt_items_especificos=get_data_API_items(cat_id_especifico,offset=offset)\n"
   ]
  },
  {
   "cell_type": "code",
   "execution_count": 11,
   "metadata": {},
   "outputs": [
    {
     "data": {
      "text/html": [
       "<div>\n",
       "<style scoped>\n",
       "    .dataframe tbody tr th:only-of-type {\n",
       "        vertical-align: middle;\n",
       "    }\n",
       "\n",
       "    .dataframe tbody tr th {\n",
       "        vertical-align: top;\n",
       "    }\n",
       "\n",
       "    .dataframe thead th {\n",
       "        text-align: right;\n",
       "    }\n",
       "</style>\n",
       "<table border=\"1\" class=\"dataframe\">\n",
       "  <thead>\n",
       "    <tr style=\"text-align: right;\">\n",
       "      <th></th>\n",
       "      <th>id</th>\n",
       "      <th>title</th>\n",
       "      <th>condition</th>\n",
       "      <th>thumbnail_id</th>\n",
       "      <th>catalog_product_id</th>\n",
       "      <th>listing_type_id</th>\n",
       "      <th>permalink</th>\n",
       "      <th>buying_mode</th>\n",
       "      <th>site_id</th>\n",
       "      <th>category_id</th>\n",
       "      <th>...</th>\n",
       "      <th>variations_data.94260079421.ratio</th>\n",
       "      <th>variations_data.94260079421.name</th>\n",
       "      <th>variations_data.94260079421.pictures_qty</th>\n",
       "      <th>variations_data.94260079421.inventory_id</th>\n",
       "      <th>variations_data.94260079421.user_product_id</th>\n",
       "      <th>brand</th>\n",
       "      <th>line</th>\n",
       "      <th>model</th>\n",
       "      <th>package_length</th>\n",
       "      <th>package_weight</th>\n",
       "    </tr>\n",
       "  </thead>\n",
       "  <tbody>\n",
       "    <tr>\n",
       "      <th>0</th>\n",
       "      <td>MLA1533712914</td>\n",
       "      <td>Parlante Bluetooth Noblex Psb1000p 45w Portáti...</td>\n",
       "      <td>new</td>\n",
       "      <td>836398-MLU74179824164_012024</td>\n",
       "      <td>MLA22905666</td>\n",
       "      <td>gold_special</td>\n",
       "      <td>https://www.mercadolibre.com.ar/parlante-bluet...</td>\n",
       "      <td>buy_it_now</td>\n",
       "      <td>MLA</td>\n",
       "      <td>MLA8618</td>\n",
       "      <td>...</td>\n",
       "      <td>NaN</td>\n",
       "      <td>NaN</td>\n",
       "      <td>NaN</td>\n",
       "      <td>NaN</td>\n",
       "      <td>NaN</td>\n",
       "      <td>Noblex</td>\n",
       "      <td>None</td>\n",
       "      <td>PSB1000P</td>\n",
       "      <td>17.2 cm</td>\n",
       "      <td>2560 g</td>\n",
       "    </tr>\n",
       "    <tr>\n",
       "      <th>1</th>\n",
       "      <td>MLA1479723106</td>\n",
       "      <td>Auriculares Bluetooth M10 Pro Superior F9-5 Ca...</td>\n",
       "      <td>new</td>\n",
       "      <td>709514-MLU70396821088_072023</td>\n",
       "      <td>MLA24436771</td>\n",
       "      <td>gold_special</td>\n",
       "      <td>https://www.mercadolibre.com.ar/auriculares-bl...</td>\n",
       "      <td>buy_it_now</td>\n",
       "      <td>MLA</td>\n",
       "      <td>MLA3697</td>\n",
       "      <td>...</td>\n",
       "      <td>NaN</td>\n",
       "      <td>NaN</td>\n",
       "      <td>NaN</td>\n",
       "      <td>NaN</td>\n",
       "      <td>NaN</td>\n",
       "      <td>M10 Pro</td>\n",
       "      <td>None</td>\n",
       "      <td>M10</td>\n",
       "      <td>10.8 cm</td>\n",
       "      <td>120 g</td>\n",
       "    </tr>\n",
       "  </tbody>\n",
       "</table>\n",
       "<p>2 rows × 634 columns</p>\n",
       "</div>"
      ],
      "text/plain": [
       "              id                                              title condition  \\\n",
       "0  MLA1533712914  Parlante Bluetooth Noblex Psb1000p 45w Portáti...       new   \n",
       "1  MLA1479723106  Auriculares Bluetooth M10 Pro Superior F9-5 Ca...       new   \n",
       "\n",
       "                   thumbnail_id catalog_product_id listing_type_id  \\\n",
       "0  836398-MLU74179824164_012024        MLA22905666    gold_special   \n",
       "1  709514-MLU70396821088_072023        MLA24436771    gold_special   \n",
       "\n",
       "                                           permalink buying_mode site_id  \\\n",
       "0  https://www.mercadolibre.com.ar/parlante-bluet...  buy_it_now     MLA   \n",
       "1  https://www.mercadolibre.com.ar/auriculares-bl...  buy_it_now     MLA   \n",
       "\n",
       "  category_id  ... variations_data.94260079421.ratio  \\\n",
       "0     MLA8618  ...                               NaN   \n",
       "1     MLA3697  ...                               NaN   \n",
       "\n",
       "  variations_data.94260079421.name variations_data.94260079421.pictures_qty  \\\n",
       "0                              NaN                                      NaN   \n",
       "1                              NaN                                      NaN   \n",
       "\n",
       "   variations_data.94260079421.inventory_id  \\\n",
       "0                                       NaN   \n",
       "1                                       NaN   \n",
       "\n",
       "   variations_data.94260079421.user_product_id    brand  line     model  \\\n",
       "0                                          NaN   Noblex  None  PSB1000P   \n",
       "1                                          NaN  M10 Pro  None       M10   \n",
       "\n",
       "   package_length package_weight  \n",
       "0         17.2 cm         2560 g  \n",
       "1         10.8 cm          120 g  \n",
       "\n",
       "[2 rows x 634 columns]"
      ]
     },
     "execution_count": 11,
     "metadata": {},
     "output_type": "execute_result"
    }
   ],
   "source": [
    "# Las bases que sacamos de la API\n",
    "dt_items_especificos.head(2)"
   ]
  },
  {
   "cell_type": "code",
   "execution_count": 10,
   "metadata": {},
   "outputs": [
    {
     "data": {
      "text/plain": [
       "domain_id\n",
       "MLA-HEADPHONES                                 570\n",
       "MLA-SPEAKERS                                   181\n",
       "MLA-MICROPHONES                                110\n",
       "MLA-AM_FM_SW_RADIOS                             29\n",
       "MLA-LED_STAGE_LIGHTS                            22\n",
       "MLA-SMART_SPEAKERS                              14\n",
       "MLA-AUDIO_INTERFACES                            13\n",
       "MLA-HOME_THEATERS                               11\n",
       "MLA-STAGE_LASER_LIGHTS                          11\n",
       "MLA-MICROPHONE_STANDS                           10\n",
       "MLA-TURNTABLES                                   9\n",
       "MLA-SPEAKERS_STANDS                              7\n",
       "MLA-SOUND_CONSOLES_AND_MIXERS                    6\n",
       "MLA-TABLE_AND_ALARM_CLOCKS                       5\n",
       "MLA-DIGITAL_VOICE_RECORDERS                      5\n",
       "MLA-MINI_COMPONENT_SYSTEMS                       4\n",
       "MLA-BOOMBOXES                                    4\n",
       "MLA-MIRROR_BALLS                                 4\n",
       "MLA-DJ_CONTROLLERS                               4\n",
       "MLA-ELECTRONIC_PRODUCTS                          3\n",
       "MLA-STUDIO_MONITORS                              3\n",
       "MLA-EFFECTS_MACHINE_FLUIDS                       3\n",
       "MLA-AUDIO_AMPLIFIERS                             2\n",
       "MLA-MEGAPHONES                                   2\n",
       "MLA-ACOUSTIC_PANELS                              2\n",
       "MLA-FOG_MACHINES                                 2\n",
       "MLA-DIRECT_BOXES                                 2\n",
       "MLA-DIGITAL_PORTABLE_MEDIA_PLAYERS               1\n",
       "MLA-DIGITAL_PORTABLE_MEDIA_PLAYER_BATTERIES      1\n",
       "MLA-POP_FILTERS                                  1\n",
       "MLA-TURNTABLE_NEEDLES                            1\n",
       "MLA-PREAMPLIFIERS                                1\n",
       "MLA-CLAMPS                                       1\n",
       "MLA-AUDIO_CROSSOVERS                             1\n",
       "MLA-DJ_TURNTABLES                                1\n",
       "MLA-DJ_MIXERS                                    1\n",
       "Name: count, dtype: int64"
      ]
     },
     "execution_count": 10,
     "metadata": {},
     "output_type": "execute_result"
    }
   ],
   "source": [
    "# Las bases que sacamos de la API tienen diferentes dominios\n",
    "df_items['domain_id'].value_counts()\n",
    "dt_items_especificos['domain_id'].value_counts()"
   ]
  },
  {
   "cell_type": "code",
   "execution_count": 15,
   "metadata": {},
   "outputs": [],
   "source": [
    "#Filtremos solo los que tiene adifonos de esa última que tiene más tipos de audifonos\n",
    "df_especificos_audifonos=dt_items_especificos[dt_items_especificos['domain_id']=='MLA-HEADPHONES']\n",
    "#El ejercicio lo haré igual sobre todas las de items_específicos para comparar con cierta variabilidad de embeddings y que los cluster sirvan\n",
    "\n",
    "#Exportamos esos dataframes al path de data raw\n",
    "from similarity.config import data_raw\n",
    "dt_items_especificos.to_csv(data_raw/'df_items_especificos.csv', index=False)\n",
    "df_especificos_audifonos.to_csv(data_raw/'df_solo_audifonos.csv', index=False)"
   ]
  },
  {
   "cell_type": "markdown",
   "metadata": {},
   "source": [
    "#### 4. Analisis de los datos finales"
   ]
  }
 ],
 "metadata": {
  "kernelspec": {
   "display_name": "melienv",
   "language": "python",
   "name": "python3"
  },
  "language_info": {
   "codemirror_mode": {
    "name": "ipython",
    "version": 3
   },
   "file_extension": ".py",
   "mimetype": "text/x-python",
   "name": "python",
   "nbconvert_exporter": "python",
   "pygments_lexer": "ipython3",
   "version": "3.11.3"
  }
 },
 "nbformat": 4,
 "nbformat_minor": 2
}
