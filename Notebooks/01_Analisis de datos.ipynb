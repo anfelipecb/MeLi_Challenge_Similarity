{
 "cells": [
  {
   "cell_type": "markdown",
   "metadata": {},
   "source": [
    "<img src = \"../Assets/imgs/ML-Codo-g.jpg\" alt = \"Encabezado MLDS\" width = \"25%\" style=\"float: left; margin-right:20px\" >  </img>\n",
    "\n",
    "## **MeLi Challenge - Similitud de items**\n",
    "### **Notebook 01: Análisis de datos extraidos de la API**\n",
    "**Por: Andrés Felipe Camacho Baquero - [Personal website](https://anfelipecb.github.io/)**\n",
    "\n",
    "\n",
    "Este código tiene el objetivo de llamar los datos de la `API`, hacer algunos análisis, y preparar los datos finales que serán pasados a los siguientes `notebooks`.  Dado que ya en el notebook `01` entendí cómo manejar la API y me ayudó a filtrar la categoría escogida.\n",
    "\n",
    "**Outline:**\n",
    "1. Verificación del entorno virtual e importación de las librerías necesarias \n",
    "2. Importamos los datos de la API con la funcion creada en custom_funcs\n",
    "3. Analisis de los datos importados\n",
    "\n",
    "> **Nota:** Se debe configurar y activar el entorno virtual (README.md)\n",
    "\n",
    "---"
   ]
  },
  {
   "cell_type": "markdown",
   "metadata": {},
   "source": [
    "#### 1. Verificamos entorno virtual "
   ]
  },
  {
   "cell_type": "code",
   "execution_count": 1,
   "metadata": {},
   "outputs": [
    {
     "name": "stdout",
     "output_type": "stream",
     "text": [
      "/Users/anfelipecb/GitHub/MeLi/MeLi_Challenge_Similarity/melienv/bin/python\n"
     ]
    }
   ],
   "source": [
    "# Verifiquemos que el entorno en que corre este jupyter es el mismo virutal llamado (melienv)\n",
    "import os, sys\n",
    "import pandas as pd\n",
    "\n",
    "os.getcwd() \n",
    "print(sys.executable) #debe datnos el entorno virtual \n",
    "sys.path.append('../similarity') #Agrego el paquete de python que creé para las funciones personalizadas, la url de la API, etc."
   ]
  },
  {
   "cell_type": "markdown",
   "metadata": {},
   "source": [
    "#### 2. Importamos los datos: \n",
    "Las funciones que hacen que esto funcione están en `similarity/custom_funcs.py`"
   ]
  },
  {
   "cell_type": "code",
   "execution_count": 2,
   "metadata": {},
   "outputs": [
    {
     "name": "stdout",
     "output_type": "stream",
     "text": [
      "El limite de items es 472295\n",
      "va en el ofsett: 50 con tamaño:50\n",
      "va en el ofsett: 99 con tamaño:49\n",
      "va en el ofsett: 148 con tamaño:49\n",
      "va en el ofsett: 198 con tamaño:50\n",
      "va en el ofsett: 248 con tamaño:50\n",
      "va en el ofsett: 298 con tamaño:50\n",
      "va en el ofsett: 348 con tamaño:50\n",
      "va en el ofsett: 398 con tamaño:50\n",
      "va en el ofsett: 448 con tamaño:50\n",
      "va en el ofsett: 498 con tamaño:50\n",
      "va en el ofsett: 548 con tamaño:50\n",
      "va en el ofsett: 598 con tamaño:50\n",
      "va en el ofsett: 648 con tamaño:50\n",
      "va en el ofsett: 698 con tamaño:50\n",
      "va en el ofsett: 748 con tamaño:50\n",
      "va en el ofsett: 798 con tamaño:50\n",
      "va en el ofsett: 848 con tamaño:50\n",
      "va en el ofsett: 898 con tamaño:50\n",
      "va en el ofsett: 948 con tamaño:50\n",
      "va en el ofsett: 998 con tamaño:50\n",
      "va en el ofsett: 1048 con tamaño:50\n",
      "Error obteniendo los datos: 403\n",
      "El limite de items es 147093\n",
      "va en el ofsett: 50 con tamaño:50\n",
      "va en el ofsett: 98 con tamaño:48\n",
      "va en el ofsett: 148 con tamaño:50\n",
      "va en el ofsett: 198 con tamaño:50\n",
      "va en el ofsett: 248 con tamaño:50\n",
      "va en el ofsett: 298 con tamaño:50\n",
      "va en el ofsett: 348 con tamaño:50\n",
      "va en el ofsett: 398 con tamaño:50\n",
      "va en el ofsett: 448 con tamaño:50\n",
      "va en el ofsett: 498 con tamaño:50\n",
      "va en el ofsett: 548 con tamaño:50\n",
      "va en el ofsett: 598 con tamaño:50\n",
      "va en el ofsett: 648 con tamaño:50\n",
      "va en el ofsett: 698 con tamaño:50\n",
      "va en el ofsett: 748 con tamaño:50\n",
      "va en el ofsett: 798 con tamaño:50\n",
      "va en el ofsett: 847 con tamaño:49\n",
      "va en el ofsett: 897 con tamaño:50\n",
      "va en el ofsett: 947 con tamaño:50\n",
      "va en el ofsett: 997 con tamaño:50\n",
      "va en el ofsett: 1047 con tamaño:50\n",
      "Error obteniendo los datos: 403\n"
     ]
    }
   ],
   "source": [
    "#Traemos la función para optener el DataFrame\n",
    "from similarity.custom_funcs import get_data_API_items\n",
    "cat_id='MLA1000' \n",
    "offset=0 \n",
    "#data_frame con los resultados\n",
    "df_items=get_data_API_items(cat_id,offset=offset) # Para en 1049 por la API\n",
    "#Tengo otra categoría más específica de datos tipo auriculares bluetooth \n",
    "cat_id_especifico='MLA409810'\n",
    "dt_items_especificos=get_data_API_items(cat_id_especifico,offset=offset)\n"
   ]
  },
  {
   "cell_type": "code",
   "execution_count": 11,
   "metadata": {},
   "outputs": [
    {
     "data": {
      "text/html": [
       "<div>\n",
       "<style scoped>\n",
       "    .dataframe tbody tr th:only-of-type {\n",
       "        vertical-align: middle;\n",
       "    }\n",
       "\n",
       "    .dataframe tbody tr th {\n",
       "        vertical-align: top;\n",
       "    }\n",
       "\n",
       "    .dataframe thead th {\n",
       "        text-align: right;\n",
       "    }\n",
       "</style>\n",
       "<table border=\"1\" class=\"dataframe\">\n",
       "  <thead>\n",
       "    <tr style=\"text-align: right;\">\n",
       "      <th></th>\n",
       "      <th>id</th>\n",
       "      <th>title</th>\n",
       "      <th>condition</th>\n",
       "      <th>thumbnail_id</th>\n",
       "      <th>catalog_product_id</th>\n",
       "      <th>listing_type_id</th>\n",
       "      <th>permalink</th>\n",
       "      <th>buying_mode</th>\n",
       "      <th>site_id</th>\n",
       "      <th>category_id</th>\n",
       "      <th>...</th>\n",
       "      <th>variations_data.94260079421.ratio</th>\n",
       "      <th>variations_data.94260079421.name</th>\n",
       "      <th>variations_data.94260079421.pictures_qty</th>\n",
       "      <th>variations_data.94260079421.inventory_id</th>\n",
       "      <th>variations_data.94260079421.user_product_id</th>\n",
       "      <th>brand</th>\n",
       "      <th>line</th>\n",
       "      <th>model</th>\n",
       "      <th>package_length</th>\n",
       "      <th>package_weight</th>\n",
       "    </tr>\n",
       "  </thead>\n",
       "  <tbody>\n",
       "    <tr>\n",
       "      <th>0</th>\n",
       "      <td>MLA1533712914</td>\n",
       "      <td>Parlante Bluetooth Noblex Psb1000p 45w Portáti...</td>\n",
       "      <td>new</td>\n",
       "      <td>836398-MLU74179824164_012024</td>\n",
       "      <td>MLA22905666</td>\n",
       "      <td>gold_special</td>\n",
       "      <td>https://www.mercadolibre.com.ar/parlante-bluet...</td>\n",
       "      <td>buy_it_now</td>\n",
       "      <td>MLA</td>\n",
       "      <td>MLA8618</td>\n",
       "      <td>...</td>\n",
       "      <td>NaN</td>\n",
       "      <td>NaN</td>\n",
       "      <td>NaN</td>\n",
       "      <td>NaN</td>\n",
       "      <td>NaN</td>\n",
       "      <td>Noblex</td>\n",
       "      <td>None</td>\n",
       "      <td>PSB1000P</td>\n",
       "      <td>17.2 cm</td>\n",
       "      <td>2560 g</td>\n",
       "    </tr>\n",
       "    <tr>\n",
       "      <th>1</th>\n",
       "      <td>MLA1479723106</td>\n",
       "      <td>Auriculares Bluetooth M10 Pro Superior F9-5 Ca...</td>\n",
       "      <td>new</td>\n",
       "      <td>709514-MLU70396821088_072023</td>\n",
       "      <td>MLA24436771</td>\n",
       "      <td>gold_special</td>\n",
       "      <td>https://www.mercadolibre.com.ar/auriculares-bl...</td>\n",
       "      <td>buy_it_now</td>\n",
       "      <td>MLA</td>\n",
       "      <td>MLA3697</td>\n",
       "      <td>...</td>\n",
       "      <td>NaN</td>\n",
       "      <td>NaN</td>\n",
       "      <td>NaN</td>\n",
       "      <td>NaN</td>\n",
       "      <td>NaN</td>\n",
       "      <td>M10 Pro</td>\n",
       "      <td>None</td>\n",
       "      <td>M10</td>\n",
       "      <td>10.8 cm</td>\n",
       "      <td>120 g</td>\n",
       "    </tr>\n",
       "  </tbody>\n",
       "</table>\n",
       "<p>2 rows × 634 columns</p>\n",
       "</div>"
      ],
      "text/plain": [
       "              id                                              title condition  \\\n",
       "0  MLA1533712914  Parlante Bluetooth Noblex Psb1000p 45w Portáti...       new   \n",
       "1  MLA1479723106  Auriculares Bluetooth M10 Pro Superior F9-5 Ca...       new   \n",
       "\n",
       "                   thumbnail_id catalog_product_id listing_type_id  \\\n",
       "0  836398-MLU74179824164_012024        MLA22905666    gold_special   \n",
       "1  709514-MLU70396821088_072023        MLA24436771    gold_special   \n",
       "\n",
       "                                           permalink buying_mode site_id  \\\n",
       "0  https://www.mercadolibre.com.ar/parlante-bluet...  buy_it_now     MLA   \n",
       "1  https://www.mercadolibre.com.ar/auriculares-bl...  buy_it_now     MLA   \n",
       "\n",
       "  category_id  ... variations_data.94260079421.ratio  \\\n",
       "0     MLA8618  ...                               NaN   \n",
       "1     MLA3697  ...                               NaN   \n",
       "\n",
       "  variations_data.94260079421.name variations_data.94260079421.pictures_qty  \\\n",
       "0                              NaN                                      NaN   \n",
       "1                              NaN                                      NaN   \n",
       "\n",
       "   variations_data.94260079421.inventory_id  \\\n",
       "0                                       NaN   \n",
       "1                                       NaN   \n",
       "\n",
       "   variations_data.94260079421.user_product_id    brand  line     model  \\\n",
       "0                                          NaN   Noblex  None  PSB1000P   \n",
       "1                                          NaN  M10 Pro  None       M10   \n",
       "\n",
       "   package_length package_weight  \n",
       "0         17.2 cm         2560 g  \n",
       "1         10.8 cm          120 g  \n",
       "\n",
       "[2 rows x 634 columns]"
      ]
     },
     "execution_count": 11,
     "metadata": {},
     "output_type": "execute_result"
    }
   ],
   "source": [
    "# Las bases que sacamos de la API\n",
    "dt_items_especificos.head(2)"
   ]
  },
  {
   "cell_type": "code",
   "execution_count": 10,
   "metadata": {},
   "outputs": [
    {
     "data": {
      "text/plain": [
       "domain_id\n",
       "MLA-HEADPHONES                                 570\n",
       "MLA-SPEAKERS                                   181\n",
       "MLA-MICROPHONES                                110\n",
       "MLA-AM_FM_SW_RADIOS                             29\n",
       "MLA-LED_STAGE_LIGHTS                            22\n",
       "MLA-SMART_SPEAKERS                              14\n",
       "MLA-AUDIO_INTERFACES                            13\n",
       "MLA-HOME_THEATERS                               11\n",
       "MLA-STAGE_LASER_LIGHTS                          11\n",
       "MLA-MICROPHONE_STANDS                           10\n",
       "MLA-TURNTABLES                                   9\n",
       "MLA-SPEAKERS_STANDS                              7\n",
       "MLA-SOUND_CONSOLES_AND_MIXERS                    6\n",
       "MLA-TABLE_AND_ALARM_CLOCKS                       5\n",
       "MLA-DIGITAL_VOICE_RECORDERS                      5\n",
       "MLA-MINI_COMPONENT_SYSTEMS                       4\n",
       "MLA-BOOMBOXES                                    4\n",
       "MLA-MIRROR_BALLS                                 4\n",
       "MLA-DJ_CONTROLLERS                               4\n",
       "MLA-ELECTRONIC_PRODUCTS                          3\n",
       "MLA-STUDIO_MONITORS                              3\n",
       "MLA-EFFECTS_MACHINE_FLUIDS                       3\n",
       "MLA-AUDIO_AMPLIFIERS                             2\n",
       "MLA-MEGAPHONES                                   2\n",
       "MLA-ACOUSTIC_PANELS                              2\n",
       "MLA-FOG_MACHINES                                 2\n",
       "MLA-DIRECT_BOXES                                 2\n",
       "MLA-DIGITAL_PORTABLE_MEDIA_PLAYERS               1\n",
       "MLA-DIGITAL_PORTABLE_MEDIA_PLAYER_BATTERIES      1\n",
       "MLA-POP_FILTERS                                  1\n",
       "MLA-TURNTABLE_NEEDLES                            1\n",
       "MLA-PREAMPLIFIERS                                1\n",
       "MLA-CLAMPS                                       1\n",
       "MLA-AUDIO_CROSSOVERS                             1\n",
       "MLA-DJ_TURNTABLES                                1\n",
       "MLA-DJ_MIXERS                                    1\n",
       "Name: count, dtype: int64"
      ]
     },
     "execution_count": 10,
     "metadata": {},
     "output_type": "execute_result"
    }
   ],
   "source": [
    "# Las bases que sacamos de la API tienen diferentes dominios\n",
    "df_items['domain_id'].value_counts()\n",
    "dt_items_especificos['domain_id'].value_counts()"
   ]
  },
  {
   "cell_type": "code",
   "execution_count": 15,
   "metadata": {},
   "outputs": [],
   "source": [
    "#Filtremos solo los que tiene adifonos de esa última que tiene más tipos de audifonos\n",
    "df_especificos_audifonos=dt_items_especificos[dt_items_especificos['domain_id']=='MLA-HEADPHONES']\n",
    "#El ejercicio lo haré igual sobre todas las de items_específicos para comparar con cierta variabilidad de embeddings y que los cluster sirvan\n",
    "\n",
    "#Exportamos esos dataframes al path de data raw\n",
    "from similarity.config import data_raw\n",
    "dt_items_especificos.to_csv(data_raw/'df_items_especificos.csv', index=False)\n",
    "df_especificos_audifonos.to_csv(data_raw/'df_solo_audifonos.csv', index=False)"
   ]
  },
  {
   "cell_type": "markdown",
   "metadata": {},
   "source": [
    "#### 4. Analisis de resultados "
   ]
  },
  {
   "cell_type": "code",
   "execution_count": 17,
   "metadata": {},
   "outputs": [
    {
     "data": {
      "application/vnd.plotly.v1+json": {
       "config": {
        "plotlyServerURL": "https://plot.ly"
       },
       "data": [
        {
         "labels": [
          "MLA-HEADPHONES",
          "MLA-TELEVISIONS",
          "MLA-SPEAKERS",
          "MLA-AUDIO_AND_VIDEO_CABLES_AND_ADAPTERS",
          "MLA-TV_AND_MONITOR_MOUNTS",
          "MLA-CELL_BATTERIES",
          "MLA-MICROPHONES",
          "MLA-STREAMING_MEDIA_DEVICES",
          "MLA-AM_FM_SW_RADIOS",
          "MLA-LED_STAGE_LIGHTS",
          "MLA-TV_REMOTE_CONTROLS",
          "MLA-HOME_THEATERS",
          "MLA-DRONES",
          "MLA-LASER_POINTERS",
          "MLA-STAGE_LASER_LIGHTS",
          "MLA-BATTERY_AND_CELL_BATTERIES_CHARGERS",
          "MLA-AUDIO_INTERFACES",
          "MLA-POWER_INVERTERS",
          "MLA-SMART_SPEAKERS",
          "MLA-PROJECTORS",
          "MLA-TV_REPLACEMENT_BACKLIGHT_LED_STRIPS",
          "MLA-AUDIO_AND_VIDEO_CONVERTERS",
          "MLA-TV_ANTENNAS",
          "MLA-POWER_CORDS",
          "MLA-ELECTRONIC_PRODUCTS",
          "MLA-PROJECTOR_SCREENS",
          "MLA-SOUND_CONSOLES_AND_MIXERS",
          "MLA-THERMAL_PADS",
          "MLA-MICROCONTROLLER_BOARDS",
          "MLA-DIGITAL_VOICE_RECORDERS",
          "MLA-TABLE_AND_ALARM_CLOCKS",
          "MLA-BOOMBOXES",
          "MLA-TURNTABLES",
          "MLA-EFFECTS_MACHINE_FLUIDS",
          "MLA-NETWORK_CABLES",
          "MLA-MICROPHONE_STANDS",
          "MLA-DIRECT_BOXES",
          "MLA-TV_RECEIVERS_AND_DECODERS",
          "MLA-DEVICE_PROGRAMMERS",
          "MLA-PROJECTOR_MOUNTS",
          "MLA-PROTOBOARDS",
          "MLA-DJ_CONTROLLERS",
          "MLA-SPEAKERS_STANDS",
          "MLA-POP_FILTERS",
          "MLA-MINI_COMPONENT_SYSTEMS",
          "MLA-MIRROR_BALLS",
          "MLA-DJ_TURNTABLES"
         ],
         "marker": {
          "colors": [
           276,
           269,
           130,
           66,
           62,
           50,
           38,
           18,
           14,
           12,
           12,
           7,
           7,
           6,
           6,
           5,
           5,
           5,
           5,
           5,
           4,
           46
          ],
          "colorscale": [
           [
            0,
            "rgb(247,251,255)"
           ],
           [
            0.125,
            "rgb(222,235,247)"
           ],
           [
            0.25,
            "rgb(198,219,239)"
           ],
           [
            0.375,
            "rgb(158,202,225)"
           ],
           [
            0.5,
            "rgb(107,174,214)"
           ],
           [
            0.625,
            "rgb(66,146,198)"
           ],
           [
            0.75,
            "rgb(33,113,181)"
           ],
           [
            0.875,
            "rgb(8,81,156)"
           ],
           [
            1,
            "rgb(8,48,107)"
           ]
          ]
         },
         "parents": [
          "",
          "",
          "",
          "",
          "",
          "",
          "",
          "",
          "",
          "",
          "",
          "",
          "",
          "",
          "",
          "",
          "",
          "",
          "",
          "",
          "",
          "",
          "",
          "",
          "",
          "",
          "",
          "",
          "",
          "",
          "",
          "",
          "",
          "",
          "",
          "",
          "",
          "",
          "",
          "",
          "",
          "",
          "",
          "",
          "",
          "",
          ""
         ],
         "textinfo": "label+value",
         "type": "treemap",
         "values": [
          276,
          269,
          130,
          66,
          62,
          50,
          38,
          18,
          14,
          12,
          12,
          7,
          7,
          6,
          6,
          5,
          5,
          5,
          5,
          5,
          4,
          3,
          3,
          3,
          3,
          2,
          2,
          2,
          2,
          2,
          2,
          2,
          2,
          2,
          2,
          2,
          2,
          1,
          1,
          1,
          1,
          1,
          1,
          1,
          1,
          1,
          1
         ]
        }
       ],
       "layout": {
        "margin": {
         "b": 25,
         "l": 25,
         "r": 25,
         "t": 50
        },
        "template": {
         "data": {
          "bar": [
           {
            "error_x": {
             "color": "#2a3f5f"
            },
            "error_y": {
             "color": "#2a3f5f"
            },
            "marker": {
             "line": {
              "color": "#E5ECF6",
              "width": 0.5
             },
             "pattern": {
              "fillmode": "overlay",
              "size": 10,
              "solidity": 0.2
             }
            },
            "type": "bar"
           }
          ],
          "barpolar": [
           {
            "marker": {
             "line": {
              "color": "#E5ECF6",
              "width": 0.5
             },
             "pattern": {
              "fillmode": "overlay",
              "size": 10,
              "solidity": 0.2
             }
            },
            "type": "barpolar"
           }
          ],
          "carpet": [
           {
            "aaxis": {
             "endlinecolor": "#2a3f5f",
             "gridcolor": "white",
             "linecolor": "white",
             "minorgridcolor": "white",
             "startlinecolor": "#2a3f5f"
            },
            "baxis": {
             "endlinecolor": "#2a3f5f",
             "gridcolor": "white",
             "linecolor": "white",
             "minorgridcolor": "white",
             "startlinecolor": "#2a3f5f"
            },
            "type": "carpet"
           }
          ],
          "choropleth": [
           {
            "colorbar": {
             "outlinewidth": 0,
             "ticks": ""
            },
            "type": "choropleth"
           }
          ],
          "contour": [
           {
            "colorbar": {
             "outlinewidth": 0,
             "ticks": ""
            },
            "colorscale": [
             [
              0,
              "#0d0887"
             ],
             [
              0.1111111111111111,
              "#46039f"
             ],
             [
              0.2222222222222222,
              "#7201a8"
             ],
             [
              0.3333333333333333,
              "#9c179e"
             ],
             [
              0.4444444444444444,
              "#bd3786"
             ],
             [
              0.5555555555555556,
              "#d8576b"
             ],
             [
              0.6666666666666666,
              "#ed7953"
             ],
             [
              0.7777777777777778,
              "#fb9f3a"
             ],
             [
              0.8888888888888888,
              "#fdca26"
             ],
             [
              1,
              "#f0f921"
             ]
            ],
            "type": "contour"
           }
          ],
          "contourcarpet": [
           {
            "colorbar": {
             "outlinewidth": 0,
             "ticks": ""
            },
            "type": "contourcarpet"
           }
          ],
          "heatmap": [
           {
            "colorbar": {
             "outlinewidth": 0,
             "ticks": ""
            },
            "colorscale": [
             [
              0,
              "#0d0887"
             ],
             [
              0.1111111111111111,
              "#46039f"
             ],
             [
              0.2222222222222222,
              "#7201a8"
             ],
             [
              0.3333333333333333,
              "#9c179e"
             ],
             [
              0.4444444444444444,
              "#bd3786"
             ],
             [
              0.5555555555555556,
              "#d8576b"
             ],
             [
              0.6666666666666666,
              "#ed7953"
             ],
             [
              0.7777777777777778,
              "#fb9f3a"
             ],
             [
              0.8888888888888888,
              "#fdca26"
             ],
             [
              1,
              "#f0f921"
             ]
            ],
            "type": "heatmap"
           }
          ],
          "heatmapgl": [
           {
            "colorbar": {
             "outlinewidth": 0,
             "ticks": ""
            },
            "colorscale": [
             [
              0,
              "#0d0887"
             ],
             [
              0.1111111111111111,
              "#46039f"
             ],
             [
              0.2222222222222222,
              "#7201a8"
             ],
             [
              0.3333333333333333,
              "#9c179e"
             ],
             [
              0.4444444444444444,
              "#bd3786"
             ],
             [
              0.5555555555555556,
              "#d8576b"
             ],
             [
              0.6666666666666666,
              "#ed7953"
             ],
             [
              0.7777777777777778,
              "#fb9f3a"
             ],
             [
              0.8888888888888888,
              "#fdca26"
             ],
             [
              1,
              "#f0f921"
             ]
            ],
            "type": "heatmapgl"
           }
          ],
          "histogram": [
           {
            "marker": {
             "pattern": {
              "fillmode": "overlay",
              "size": 10,
              "solidity": 0.2
             }
            },
            "type": "histogram"
           }
          ],
          "histogram2d": [
           {
            "colorbar": {
             "outlinewidth": 0,
             "ticks": ""
            },
            "colorscale": [
             [
              0,
              "#0d0887"
             ],
             [
              0.1111111111111111,
              "#46039f"
             ],
             [
              0.2222222222222222,
              "#7201a8"
             ],
             [
              0.3333333333333333,
              "#9c179e"
             ],
             [
              0.4444444444444444,
              "#bd3786"
             ],
             [
              0.5555555555555556,
              "#d8576b"
             ],
             [
              0.6666666666666666,
              "#ed7953"
             ],
             [
              0.7777777777777778,
              "#fb9f3a"
             ],
             [
              0.8888888888888888,
              "#fdca26"
             ],
             [
              1,
              "#f0f921"
             ]
            ],
            "type": "histogram2d"
           }
          ],
          "histogram2dcontour": [
           {
            "colorbar": {
             "outlinewidth": 0,
             "ticks": ""
            },
            "colorscale": [
             [
              0,
              "#0d0887"
             ],
             [
              0.1111111111111111,
              "#46039f"
             ],
             [
              0.2222222222222222,
              "#7201a8"
             ],
             [
              0.3333333333333333,
              "#9c179e"
             ],
             [
              0.4444444444444444,
              "#bd3786"
             ],
             [
              0.5555555555555556,
              "#d8576b"
             ],
             [
              0.6666666666666666,
              "#ed7953"
             ],
             [
              0.7777777777777778,
              "#fb9f3a"
             ],
             [
              0.8888888888888888,
              "#fdca26"
             ],
             [
              1,
              "#f0f921"
             ]
            ],
            "type": "histogram2dcontour"
           }
          ],
          "mesh3d": [
           {
            "colorbar": {
             "outlinewidth": 0,
             "ticks": ""
            },
            "type": "mesh3d"
           }
          ],
          "parcoords": [
           {
            "line": {
             "colorbar": {
              "outlinewidth": 0,
              "ticks": ""
             }
            },
            "type": "parcoords"
           }
          ],
          "pie": [
           {
            "automargin": true,
            "type": "pie"
           }
          ],
          "scatter": [
           {
            "fillpattern": {
             "fillmode": "overlay",
             "size": 10,
             "solidity": 0.2
            },
            "type": "scatter"
           }
          ],
          "scatter3d": [
           {
            "line": {
             "colorbar": {
              "outlinewidth": 0,
              "ticks": ""
             }
            },
            "marker": {
             "colorbar": {
              "outlinewidth": 0,
              "ticks": ""
             }
            },
            "type": "scatter3d"
           }
          ],
          "scattercarpet": [
           {
            "marker": {
             "colorbar": {
              "outlinewidth": 0,
              "ticks": ""
             }
            },
            "type": "scattercarpet"
           }
          ],
          "scattergeo": [
           {
            "marker": {
             "colorbar": {
              "outlinewidth": 0,
              "ticks": ""
             }
            },
            "type": "scattergeo"
           }
          ],
          "scattergl": [
           {
            "marker": {
             "colorbar": {
              "outlinewidth": 0,
              "ticks": ""
             }
            },
            "type": "scattergl"
           }
          ],
          "scattermapbox": [
           {
            "marker": {
             "colorbar": {
              "outlinewidth": 0,
              "ticks": ""
             }
            },
            "type": "scattermapbox"
           }
          ],
          "scatterpolar": [
           {
            "marker": {
             "colorbar": {
              "outlinewidth": 0,
              "ticks": ""
             }
            },
            "type": "scatterpolar"
           }
          ],
          "scatterpolargl": [
           {
            "marker": {
             "colorbar": {
              "outlinewidth": 0,
              "ticks": ""
             }
            },
            "type": "scatterpolargl"
           }
          ],
          "scatterternary": [
           {
            "marker": {
             "colorbar": {
              "outlinewidth": 0,
              "ticks": ""
             }
            },
            "type": "scatterternary"
           }
          ],
          "surface": [
           {
            "colorbar": {
             "outlinewidth": 0,
             "ticks": ""
            },
            "colorscale": [
             [
              0,
              "#0d0887"
             ],
             [
              0.1111111111111111,
              "#46039f"
             ],
             [
              0.2222222222222222,
              "#7201a8"
             ],
             [
              0.3333333333333333,
              "#9c179e"
             ],
             [
              0.4444444444444444,
              "#bd3786"
             ],
             [
              0.5555555555555556,
              "#d8576b"
             ],
             [
              0.6666666666666666,
              "#ed7953"
             ],
             [
              0.7777777777777778,
              "#fb9f3a"
             ],
             [
              0.8888888888888888,
              "#fdca26"
             ],
             [
              1,
              "#f0f921"
             ]
            ],
            "type": "surface"
           }
          ],
          "table": [
           {
            "cells": {
             "fill": {
              "color": "#EBF0F8"
             },
             "line": {
              "color": "white"
             }
            },
            "header": {
             "fill": {
              "color": "#C8D4E3"
             },
             "line": {
              "color": "white"
             }
            },
            "type": "table"
           }
          ]
         },
         "layout": {
          "annotationdefaults": {
           "arrowcolor": "#2a3f5f",
           "arrowhead": 0,
           "arrowwidth": 1
          },
          "autotypenumbers": "strict",
          "coloraxis": {
           "colorbar": {
            "outlinewidth": 0,
            "ticks": ""
           }
          },
          "colorscale": {
           "diverging": [
            [
             0,
             "#8e0152"
            ],
            [
             0.1,
             "#c51b7d"
            ],
            [
             0.2,
             "#de77ae"
            ],
            [
             0.3,
             "#f1b6da"
            ],
            [
             0.4,
             "#fde0ef"
            ],
            [
             0.5,
             "#f7f7f7"
            ],
            [
             0.6,
             "#e6f5d0"
            ],
            [
             0.7,
             "#b8e186"
            ],
            [
             0.8,
             "#7fbc41"
            ],
            [
             0.9,
             "#4d9221"
            ],
            [
             1,
             "#276419"
            ]
           ],
           "sequential": [
            [
             0,
             "#0d0887"
            ],
            [
             0.1111111111111111,
             "#46039f"
            ],
            [
             0.2222222222222222,
             "#7201a8"
            ],
            [
             0.3333333333333333,
             "#9c179e"
            ],
            [
             0.4444444444444444,
             "#bd3786"
            ],
            [
             0.5555555555555556,
             "#d8576b"
            ],
            [
             0.6666666666666666,
             "#ed7953"
            ],
            [
             0.7777777777777778,
             "#fb9f3a"
            ],
            [
             0.8888888888888888,
             "#fdca26"
            ],
            [
             1,
             "#f0f921"
            ]
           ],
           "sequentialminus": [
            [
             0,
             "#0d0887"
            ],
            [
             0.1111111111111111,
             "#46039f"
            ],
            [
             0.2222222222222222,
             "#7201a8"
            ],
            [
             0.3333333333333333,
             "#9c179e"
            ],
            [
             0.4444444444444444,
             "#bd3786"
            ],
            [
             0.5555555555555556,
             "#d8576b"
            ],
            [
             0.6666666666666666,
             "#ed7953"
            ],
            [
             0.7777777777777778,
             "#fb9f3a"
            ],
            [
             0.8888888888888888,
             "#fdca26"
            ],
            [
             1,
             "#f0f921"
            ]
           ]
          },
          "colorway": [
           "#636efa",
           "#EF553B",
           "#00cc96",
           "#ab63fa",
           "#FFA15A",
           "#19d3f3",
           "#FF6692",
           "#B6E880",
           "#FF97FF",
           "#FECB52"
          ],
          "font": {
           "color": "#2a3f5f"
          },
          "geo": {
           "bgcolor": "white",
           "lakecolor": "white",
           "landcolor": "#E5ECF6",
           "showlakes": true,
           "showland": true,
           "subunitcolor": "white"
          },
          "hoverlabel": {
           "align": "left"
          },
          "hovermode": "closest",
          "mapbox": {
           "style": "light"
          },
          "paper_bgcolor": "white",
          "plot_bgcolor": "#E5ECF6",
          "polar": {
           "angularaxis": {
            "gridcolor": "white",
            "linecolor": "white",
            "ticks": ""
           },
           "bgcolor": "#E5ECF6",
           "radialaxis": {
            "gridcolor": "white",
            "linecolor": "white",
            "ticks": ""
           }
          },
          "scene": {
           "xaxis": {
            "backgroundcolor": "#E5ECF6",
            "gridcolor": "white",
            "gridwidth": 2,
            "linecolor": "white",
            "showbackground": true,
            "ticks": "",
            "zerolinecolor": "white"
           },
           "yaxis": {
            "backgroundcolor": "#E5ECF6",
            "gridcolor": "white",
            "gridwidth": 2,
            "linecolor": "white",
            "showbackground": true,
            "ticks": "",
            "zerolinecolor": "white"
           },
           "zaxis": {
            "backgroundcolor": "#E5ECF6",
            "gridcolor": "white",
            "gridwidth": 2,
            "linecolor": "white",
            "showbackground": true,
            "ticks": "",
            "zerolinecolor": "white"
           }
          },
          "shapedefaults": {
           "line": {
            "color": "#2a3f5f"
           }
          },
          "ternary": {
           "aaxis": {
            "gridcolor": "white",
            "linecolor": "white",
            "ticks": ""
           },
           "baxis": {
            "gridcolor": "white",
            "linecolor": "white",
            "ticks": ""
           },
           "bgcolor": "#E5ECF6",
           "caxis": {
            "gridcolor": "white",
            "linecolor": "white",
            "ticks": ""
           }
          },
          "title": {
           "x": 0.05
          },
          "xaxis": {
           "automargin": true,
           "gridcolor": "white",
           "linecolor": "white",
           "ticks": "",
           "title": {
            "standoff": 15
           },
           "zerolinecolor": "white",
           "zerolinewidth": 2
          },
          "yaxis": {
           "automargin": true,
           "gridcolor": "white",
           "linecolor": "white",
           "ticks": "",
           "title": {
            "standoff": 15
           },
           "zerolinecolor": "white",
           "zerolinewidth": 2
          }
         }
        }
       }
      }
     },
     "metadata": {},
     "output_type": "display_data"
    }
   ],
   "source": [
    "#Conteo de categorías\n",
    "import plotly.graph_objects as go\n",
    "conteo_categorias=df_items['domain_id'].value_counts().reset_index()\n",
    "conteo_categorias.columns = ['categoria', 'conteo']\n",
    "#Umbral para 'otros'\n",
    "umbral =3\n",
    "categorias_principales = conteo_categorias[conteo_categorias['conteo'] > umbral]\n",
    "otros = conteo_categorias[conteo_categorias['conteo'] <= umbral].sum(numeric_only=True)\n",
    "otros['categoria'] = 'Otros'\n",
    "# Combinar nuevamente\n",
    "conteo_final = pd.concat([categorias_principales, pd.DataFrame([otros])], ignore_index=True)\n",
    "\n",
    "# Crear un treemap\n",
    "fig = go.Figure(go.Treemap(\n",
    "    labels = conteo_categorias['categoria'],\n",
    "    parents=[\"\"]*len(conteo_categorias),\n",
    "    values = conteo_categorias['conteo'],\n",
    "    textinfo = \"label+value\",\n",
    "    marker=dict(colors=conteo_final['conteo'], colorscale='Blues'), # Personalizar rampa de colores\n",
    "))\n",
    "\n",
    "fig.update_layout(margin = dict(t=50, l=25, r=25, b=25))\n",
    "# Guardar la figura\n",
    "fig.write_image(\"figures/treemap_categorias2.png\")\n",
    "fig.show()"
   ]
  },
  {
   "cell_type": "code",
   "execution_count": 18,
   "metadata": {},
   "outputs": [
    {
     "data": {
      "text/html": [
       "<div>\n",
       "<style scoped>\n",
       "    .dataframe tbody tr th:only-of-type {\n",
       "        vertical-align: middle;\n",
       "    }\n",
       "\n",
       "    .dataframe tbody tr th {\n",
       "        vertical-align: top;\n",
       "    }\n",
       "\n",
       "    .dataframe thead th {\n",
       "        text-align: right;\n",
       "    }\n",
       "</style>\n",
       "<table border=\"1\" class=\"dataframe\">\n",
       "  <thead>\n",
       "    <tr style=\"text-align: right;\">\n",
       "      <th></th>\n",
       "      <th>order_backend</th>\n",
       "      <th>price</th>\n",
       "      <th>original_price</th>\n",
       "      <th>available_quantity</th>\n",
       "      <th>official_store_id</th>\n",
       "      <th>seller.id</th>\n",
       "      <th>installments.quantity</th>\n",
       "      <th>installments.amount</th>\n",
       "      <th>installments.rate</th>\n",
       "      <th>differential_pricing.id</th>\n",
       "      <th>...</th>\n",
       "      <th>variations_data.65011529338.pictures_qty</th>\n",
       "      <th>variations_data.65011529332.pictures_qty</th>\n",
       "      <th>variations_data.87450265899.pictures_qty</th>\n",
       "      <th>variations_data.87450265889.pictures_qty</th>\n",
       "      <th>variations_data.65003181362.pictures_qty</th>\n",
       "      <th>variations_data.65011529329.pictures_qty</th>\n",
       "      <th>variations_data.180786519635.pictures_qty</th>\n",
       "      <th>variations_data.180787442655.pictures_qty</th>\n",
       "      <th>variations_data.181500186623.pictures_qty</th>\n",
       "      <th>variations_data.175548595683.pictures_qty</th>\n",
       "    </tr>\n",
       "  </thead>\n",
       "  <tbody>\n",
       "    <tr>\n",
       "      <th>count</th>\n",
       "      <td>1048.000000</td>\n",
       "      <td>1.048000e+03</td>\n",
       "      <td>4.440000e+02</td>\n",
       "      <td>1048.000000</td>\n",
       "      <td>180.000000</td>\n",
       "      <td>1.048000e+03</td>\n",
       "      <td>995.000000</td>\n",
       "      <td>9.950000e+02</td>\n",
       "      <td>995.000000</td>\n",
       "      <td>9.900000e+01</td>\n",
       "      <td>...</td>\n",
       "      <td>1.0</td>\n",
       "      <td>1.0</td>\n",
       "      <td>1.0</td>\n",
       "      <td>1.0</td>\n",
       "      <td>1.0</td>\n",
       "      <td>1.0</td>\n",
       "      <td>1.0</td>\n",
       "      <td>1.0</td>\n",
       "      <td>1.0</td>\n",
       "      <td>1.0</td>\n",
       "    </tr>\n",
       "    <tr>\n",
       "      <th>mean</th>\n",
       "      <td>25.480916</td>\n",
       "      <td>2.234435e+05</td>\n",
       "      <td>2.745261e+05</td>\n",
       "      <td>180.223282</td>\n",
       "      <td>2170.866667</td>\n",
       "      <td>3.126946e+08</td>\n",
       "      <td>5.864322</td>\n",
       "      <td>6.054044e+04</td>\n",
       "      <td>53.057608</td>\n",
       "      <td>3.528163e+07</td>\n",
       "      <td>...</td>\n",
       "      <td>5.0</td>\n",
       "      <td>6.0</td>\n",
       "      <td>7.0</td>\n",
       "      <td>5.0</td>\n",
       "      <td>5.0</td>\n",
       "      <td>5.0</td>\n",
       "      <td>1.0</td>\n",
       "      <td>1.0</td>\n",
       "      <td>5.0</td>\n",
       "      <td>10.0</td>\n",
       "    </tr>\n",
       "    <tr>\n",
       "      <th>std</th>\n",
       "      <td>14.444890</td>\n",
       "      <td>5.050866e+05</td>\n",
       "      <td>5.193209e+05</td>\n",
       "      <td>1646.582285</td>\n",
       "      <td>4882.162983</td>\n",
       "      <td>3.343095e+08</td>\n",
       "      <td>0.679303</td>\n",
       "      <td>1.287904e+05</td>\n",
       "      <td>17.645323</td>\n",
       "      <td>8.362198e+05</td>\n",
       "      <td>...</td>\n",
       "      <td>NaN</td>\n",
       "      <td>NaN</td>\n",
       "      <td>NaN</td>\n",
       "      <td>NaN</td>\n",
       "      <td>NaN</td>\n",
       "      <td>NaN</td>\n",
       "      <td>NaN</td>\n",
       "      <td>NaN</td>\n",
       "      <td>NaN</td>\n",
       "      <td>NaN</td>\n",
       "    </tr>\n",
       "    <tr>\n",
       "      <th>min</th>\n",
       "      <td>1.000000</td>\n",
       "      <td>1.197320e+03</td>\n",
       "      <td>2.000000e+03</td>\n",
       "      <td>1.000000</td>\n",
       "      <td>47.000000</td>\n",
       "      <td>1.090890e+05</td>\n",
       "      <td>3.000000</td>\n",
       "      <td>1.130800e+03</td>\n",
       "      <td>0.000000</td>\n",
       "      <td>3.367819e+07</td>\n",
       "      <td>...</td>\n",
       "      <td>5.0</td>\n",
       "      <td>6.0</td>\n",
       "      <td>7.0</td>\n",
       "      <td>5.0</td>\n",
       "      <td>5.0</td>\n",
       "      <td>5.0</td>\n",
       "      <td>1.0</td>\n",
       "      <td>1.0</td>\n",
       "      <td>5.0</td>\n",
       "      <td>10.0</td>\n",
       "    </tr>\n",
       "    <tr>\n",
       "      <th>25%</th>\n",
       "      <td>13.000000</td>\n",
       "      <td>1.256975e+04</td>\n",
       "      <td>1.695075e+04</td>\n",
       "      <td>1.000000</td>\n",
       "      <td>945.000000</td>\n",
       "      <td>7.821206e+07</td>\n",
       "      <td>6.000000</td>\n",
       "      <td>3.736740e+03</td>\n",
       "      <td>58.920000</td>\n",
       "      <td>3.571329e+07</td>\n",
       "      <td>...</td>\n",
       "      <td>5.0</td>\n",
       "      <td>6.0</td>\n",
       "      <td>7.0</td>\n",
       "      <td>5.0</td>\n",
       "      <td>5.0</td>\n",
       "      <td>5.0</td>\n",
       "      <td>1.0</td>\n",
       "      <td>1.0</td>\n",
       "      <td>5.0</td>\n",
       "      <td>10.0</td>\n",
       "    </tr>\n",
       "    <tr>\n",
       "      <th>50%</th>\n",
       "      <td>25.000000</td>\n",
       "      <td>3.601900e+04</td>\n",
       "      <td>5.814100e+04</td>\n",
       "      <td>1.000000</td>\n",
       "      <td>1938.000000</td>\n",
       "      <td>1.958322e+08</td>\n",
       "      <td>6.000000</td>\n",
       "      <td>1.059175e+04</td>\n",
       "      <td>58.920000</td>\n",
       "      <td>3.571332e+07</td>\n",
       "      <td>...</td>\n",
       "      <td>5.0</td>\n",
       "      <td>6.0</td>\n",
       "      <td>7.0</td>\n",
       "      <td>5.0</td>\n",
       "      <td>5.0</td>\n",
       "      <td>5.0</td>\n",
       "      <td>1.0</td>\n",
       "      <td>1.0</td>\n",
       "      <td>5.0</td>\n",
       "      <td>10.0</td>\n",
       "    </tr>\n",
       "    <tr>\n",
       "      <th>75%</th>\n",
       "      <td>38.000000</td>\n",
       "      <td>2.322478e+05</td>\n",
       "      <td>3.565108e+05</td>\n",
       "      <td>50.000000</td>\n",
       "      <td>2839.000000</td>\n",
       "      <td>4.242186e+08</td>\n",
       "      <td>6.000000</td>\n",
       "      <td>6.763105e+04</td>\n",
       "      <td>58.920000</td>\n",
       "      <td>3.571332e+07</td>\n",
       "      <td>...</td>\n",
       "      <td>5.0</td>\n",
       "      <td>6.0</td>\n",
       "      <td>7.0</td>\n",
       "      <td>5.0</td>\n",
       "      <td>5.0</td>\n",
       "      <td>5.0</td>\n",
       "      <td>1.0</td>\n",
       "      <td>1.0</td>\n",
       "      <td>5.0</td>\n",
       "      <td>10.0</td>\n",
       "    </tr>\n",
       "    <tr>\n",
       "      <th>max</th>\n",
       "      <td>50.000000</td>\n",
       "      <td>6.999999e+06</td>\n",
       "      <td>4.293849e+06</td>\n",
       "      <td>50000.000000</td>\n",
       "      <td>65728.000000</td>\n",
       "      <td>1.623454e+09</td>\n",
       "      <td>9.000000</td>\n",
       "      <td>1.966666e+06</td>\n",
       "      <td>58.920000</td>\n",
       "      <td>3.571338e+07</td>\n",
       "      <td>...</td>\n",
       "      <td>5.0</td>\n",
       "      <td>6.0</td>\n",
       "      <td>7.0</td>\n",
       "      <td>5.0</td>\n",
       "      <td>5.0</td>\n",
       "      <td>5.0</td>\n",
       "      <td>1.0</td>\n",
       "      <td>1.0</td>\n",
       "      <td>5.0</td>\n",
       "      <td>10.0</td>\n",
       "    </tr>\n",
       "  </tbody>\n",
       "</table>\n",
       "<p>8 rows × 49 columns</p>\n",
       "</div>"
      ],
      "text/plain": [
       "       order_backend         price  original_price  available_quantity  \\\n",
       "count    1048.000000  1.048000e+03    4.440000e+02         1048.000000   \n",
       "mean       25.480916  2.234435e+05    2.745261e+05          180.223282   \n",
       "std        14.444890  5.050866e+05    5.193209e+05         1646.582285   \n",
       "min         1.000000  1.197320e+03    2.000000e+03            1.000000   \n",
       "25%        13.000000  1.256975e+04    1.695075e+04            1.000000   \n",
       "50%        25.000000  3.601900e+04    5.814100e+04            1.000000   \n",
       "75%        38.000000  2.322478e+05    3.565108e+05           50.000000   \n",
       "max        50.000000  6.999999e+06    4.293849e+06        50000.000000   \n",
       "\n",
       "       official_store_id     seller.id  installments.quantity  \\\n",
       "count         180.000000  1.048000e+03             995.000000   \n",
       "mean         2170.866667  3.126946e+08               5.864322   \n",
       "std          4882.162983  3.343095e+08               0.679303   \n",
       "min            47.000000  1.090890e+05               3.000000   \n",
       "25%           945.000000  7.821206e+07               6.000000   \n",
       "50%          1938.000000  1.958322e+08               6.000000   \n",
       "75%          2839.000000  4.242186e+08               6.000000   \n",
       "max         65728.000000  1.623454e+09               9.000000   \n",
       "\n",
       "       installments.amount  installments.rate  differential_pricing.id  ...  \\\n",
       "count         9.950000e+02         995.000000             9.900000e+01  ...   \n",
       "mean          6.054044e+04          53.057608             3.528163e+07  ...   \n",
       "std           1.287904e+05          17.645323             8.362198e+05  ...   \n",
       "min           1.130800e+03           0.000000             3.367819e+07  ...   \n",
       "25%           3.736740e+03          58.920000             3.571329e+07  ...   \n",
       "50%           1.059175e+04          58.920000             3.571332e+07  ...   \n",
       "75%           6.763105e+04          58.920000             3.571332e+07  ...   \n",
       "max           1.966666e+06          58.920000             3.571338e+07  ...   \n",
       "\n",
       "       variations_data.65011529338.pictures_qty  \\\n",
       "count                                       1.0   \n",
       "mean                                        5.0   \n",
       "std                                         NaN   \n",
       "min                                         5.0   \n",
       "25%                                         5.0   \n",
       "50%                                         5.0   \n",
       "75%                                         5.0   \n",
       "max                                         5.0   \n",
       "\n",
       "       variations_data.65011529332.pictures_qty  \\\n",
       "count                                       1.0   \n",
       "mean                                        6.0   \n",
       "std                                         NaN   \n",
       "min                                         6.0   \n",
       "25%                                         6.0   \n",
       "50%                                         6.0   \n",
       "75%                                         6.0   \n",
       "max                                         6.0   \n",
       "\n",
       "       variations_data.87450265899.pictures_qty  \\\n",
       "count                                       1.0   \n",
       "mean                                        7.0   \n",
       "std                                         NaN   \n",
       "min                                         7.0   \n",
       "25%                                         7.0   \n",
       "50%                                         7.0   \n",
       "75%                                         7.0   \n",
       "max                                         7.0   \n",
       "\n",
       "       variations_data.87450265889.pictures_qty  \\\n",
       "count                                       1.0   \n",
       "mean                                        5.0   \n",
       "std                                         NaN   \n",
       "min                                         5.0   \n",
       "25%                                         5.0   \n",
       "50%                                         5.0   \n",
       "75%                                         5.0   \n",
       "max                                         5.0   \n",
       "\n",
       "       variations_data.65003181362.pictures_qty  \\\n",
       "count                                       1.0   \n",
       "mean                                        5.0   \n",
       "std                                         NaN   \n",
       "min                                         5.0   \n",
       "25%                                         5.0   \n",
       "50%                                         5.0   \n",
       "75%                                         5.0   \n",
       "max                                         5.0   \n",
       "\n",
       "       variations_data.65011529329.pictures_qty  \\\n",
       "count                                       1.0   \n",
       "mean                                        5.0   \n",
       "std                                         NaN   \n",
       "min                                         5.0   \n",
       "25%                                         5.0   \n",
       "50%                                         5.0   \n",
       "75%                                         5.0   \n",
       "max                                         5.0   \n",
       "\n",
       "       variations_data.180786519635.pictures_qty  \\\n",
       "count                                        1.0   \n",
       "mean                                         1.0   \n",
       "std                                          NaN   \n",
       "min                                          1.0   \n",
       "25%                                          1.0   \n",
       "50%                                          1.0   \n",
       "75%                                          1.0   \n",
       "max                                          1.0   \n",
       "\n",
       "       variations_data.180787442655.pictures_qty  \\\n",
       "count                                        1.0   \n",
       "mean                                         1.0   \n",
       "std                                          NaN   \n",
       "min                                          1.0   \n",
       "25%                                          1.0   \n",
       "50%                                          1.0   \n",
       "75%                                          1.0   \n",
       "max                                          1.0   \n",
       "\n",
       "       variations_data.181500186623.pictures_qty  \\\n",
       "count                                        1.0   \n",
       "mean                                         5.0   \n",
       "std                                          NaN   \n",
       "min                                          5.0   \n",
       "25%                                          5.0   \n",
       "50%                                          5.0   \n",
       "75%                                          5.0   \n",
       "max                                          5.0   \n",
       "\n",
       "       variations_data.175548595683.pictures_qty  \n",
       "count                                        1.0  \n",
       "mean                                        10.0  \n",
       "std                                          NaN  \n",
       "min                                         10.0  \n",
       "25%                                         10.0  \n",
       "50%                                         10.0  \n",
       "75%                                         10.0  \n",
       "max                                         10.0  \n",
       "\n",
       "[8 rows x 49 columns]"
      ]
     },
     "execution_count": 18,
     "metadata": {},
     "output_type": "execute_result"
    }
   ],
   "source": [
    "df_items.describe()"
   ]
  },
  {
   "cell_type": "code",
   "execution_count": 19,
   "metadata": {},
   "outputs": [
    {
     "data": {
      "image/png": "[encoded data removed]",
      "text/plain": [
       "<Figure size 640x480 with 1 Axes>"
      ]
     },
     "metadata": {},
     "output_type": "display_data"
    }
   ],
   "source": [
    "import matplotlib.pyplot as plt\n",
    "df_items['price'].plot(kind='hist', bins=50, title='Distribución de precios')\n",
    "plt.xlabel('Precio')\n",
    "plt.show()"
   ]
  }
 ],
 "metadata": {
  "kernelspec": {
   "display_name": "melienv",
   "language": "python",
   "name": "python3"
  },
  "language_info": {
   "codemirror_mode": {
    "name": "ipython",
    "version": 3
   },
   "file_extension": ".py",
   "mimetype": "text/x-python",
   "name": "python",
   "nbconvert_exporter": "python",
   "pygments_lexer": "ipython3",
   "version": "3.11.3"
  }
 },
 "nbformat": 4,
 "nbformat_minor": 2
}
