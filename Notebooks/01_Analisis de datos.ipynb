{
 "cells": [
  {
   "cell_type": "markdown",
   "metadata": {},
   "source": []
  },
  {
   "cell_type": "code",
   "execution_count": 2,
   "metadata": {},
   "outputs": [],
   "source": [
    "# Vamos a crear funciones para limpiar el texto \n",
    "import re \n",
    "\n",
    "def limpiar_texto(texto):\n",
    "    \"\"\" Función que nos servirá para limpiar y nornalizar el texto.\n",
    "    \"\"\"\n",
    "    text=text.lower() # Lo pasamos a minusculas\n",
    "    # Eliminamos caracteres especiales y números\n",
    "    text = re.sub(r'\\W+|\\d+', ' ', text)\n",
    "    # Eliminamos espacios adicionales\n",
    "    text = re.sub(r'\\s+', ' ', text).strip()\n",
    "    return text\n",
    "\n",
    "#Aplicamos la funcion a los titulos "
   ]
  }
 ],
 "metadata": {
  "kernelspec": {
   "display_name": "melienv",
   "language": "python",
   "name": "python3"
  },
  "language_info": {
   "codemirror_mode": {
    "name": "ipython",
    "version": 3
   },
   "file_extension": ".py",
   "mimetype": "text/x-python",
   "name": "python",
   "nbconvert_exporter": "python",
   "pygments_lexer": "ipython3",
   "version": "3.11.3"
  }
 },
 "nbformat": 4,
 "nbformat_minor": 2
}
